{
 "cells": [
  {
   "cell_type": "code",
   "execution_count": 1,
   "metadata": {},
   "outputs": [
    {
     "name": "stdout",
     "output_type": "stream",
     "text": [
      "Requirement already satisfied: anndata in c:\\users\\abueckle\\documents\\github\\hra-cns-leskovec-echange\\.venv\\lib\\site-packages (0.11.3)\n",
      "Requirement already satisfied: array-api-compat!=1.5,>1.4 in c:\\users\\abueckle\\documents\\github\\hra-cns-leskovec-echange\\.venv\\lib\\site-packages (from anndata) (1.11)\n",
      "Requirement already satisfied: h5py>=3.7 in c:\\users\\abueckle\\documents\\github\\hra-cns-leskovec-echange\\.venv\\lib\\site-packages (from anndata) (3.13.0)\n",
      "Requirement already satisfied: natsort in c:\\users\\abueckle\\documents\\github\\hra-cns-leskovec-echange\\.venv\\lib\\site-packages (from anndata) (8.4.0)\n",
      "Requirement already satisfied: numpy>=1.23 in c:\\users\\abueckle\\documents\\github\\hra-cns-leskovec-echange\\.venv\\lib\\site-packages (from anndata) (2.2.3)\n",
      "Requirement already satisfied: packaging>=20.0 in c:\\users\\abueckle\\documents\\github\\hra-cns-leskovec-echange\\.venv\\lib\\site-packages (from anndata) (24.2)\n",
      "Requirement already satisfied: pandas!=2.1.0rc0,!=2.1.2,>=1.4 in c:\\users\\abueckle\\documents\\github\\hra-cns-leskovec-echange\\.venv\\lib\\site-packages (from anndata) (2.2.3)\n",
      "Requirement already satisfied: scipy>1.8 in c:\\users\\abueckle\\documents\\github\\hra-cns-leskovec-echange\\.venv\\lib\\site-packages (from anndata) (1.15.2)\n",
      "Requirement already satisfied: python-dateutil>=2.8.2 in c:\\users\\abueckle\\documents\\github\\hra-cns-leskovec-echange\\.venv\\lib\\site-packages (from pandas!=2.1.0rc0,!=2.1.2,>=1.4->anndata) (2.9.0.post0)\n",
      "Requirement already satisfied: pytz>=2020.1 in c:\\users\\abueckle\\documents\\github\\hra-cns-leskovec-echange\\.venv\\lib\\site-packages (from pandas!=2.1.0rc0,!=2.1.2,>=1.4->anndata) (2025.1)\n",
      "Requirement already satisfied: tzdata>=2022.7 in c:\\users\\abueckle\\documents\\github\\hra-cns-leskovec-echange\\.venv\\lib\\site-packages (from pandas!=2.1.0rc0,!=2.1.2,>=1.4->anndata) (2025.1)\n",
      "Requirement already satisfied: six>=1.5 in c:\\users\\abueckle\\documents\\github\\hra-cns-leskovec-echange\\.venv\\lib\\site-packages (from python-dateutil>=2.8.2->pandas!=2.1.0rc0,!=2.1.2,>=1.4->anndata) (1.17.0)\n",
      "Note: you may need to restart the kernel to use updated packages.\n"
     ]
    }
   ],
   "source": [
    "%pip install anndata\n",
    "\n",
    "import anndata"
   ]
  },
  {
   "cell_type": "code",
   "execution_count": null,
   "metadata": {},
   "outputs": [
    {
     "data": {
      "text/plain": [
       "AnnData object with n_obs × n_vars = 841 × 60286\n",
       "    var: 'hugo_symbol'\n",
       "    layers: 'spliced', 'spliced_unspliced_sum', 'unspliced'"
      ]
     },
     "execution_count": 3,
     "metadata": {},
     "output_type": "execute_result"
    }
   ],
   "source": [
    "data = anndata.read_h5ad('data/2638ed2b83e619710497ca2410dc1da1.h5ad') # replace this file name as needed!\n",
    "data"
   ]
  }
 ],
 "metadata": {
  "kernelspec": {
   "display_name": ".venv",
   "language": "python",
   "name": "python3"
  },
  "language_info": {
   "codemirror_mode": {
    "name": "ipython",
    "version": 3
   },
   "file_extension": ".py",
   "mimetype": "text/x-python",
   "name": "python",
   "nbconvert_exporter": "python",
   "pygments_lexer": "ipython3",
   "version": "3.12.4"
  }
 },
 "nbformat": 4,
 "nbformat_minor": 2
}
